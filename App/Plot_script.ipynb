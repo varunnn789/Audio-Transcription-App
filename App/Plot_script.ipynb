{
 "cells": [
  {
   "cell_type": "code",
   "execution_count": null,
   "id": "4b1d71e6",
   "metadata": {},
   "outputs": [],
   "source": [
    "import matplotlib.pyplot as plt\n",
    "import seaborn as sns\n",
    "import pandas as pd\n",
    "\n",
    "data = {\n",
    "    'Model': ['Whisper Tiny', 'Llama 3.2 1B'] * 4,\n",
    "    'Metric': ['WER (%)', 'F1 Score'] * 4,\n",
    "    'Value': [\n",
    "        19.10, 65.00,  #baseline regular (WER, F1)\n",
    "        18.41, 61.33,  #finetuned Regular (WER, F1)\n",
    "        21.98, 56.00,  #bseline noisy(WER, F1)\n",
    "        20.86, 49.43   #finetuned noisy(WER, F1)\n",
    "    ],\n",
    "    'Condition': (\n",
    "        ['Baseline Regular'] * 2 +\n",
    "        ['Fine-Tuned Regular'] * 2 +\n",
    "        ['Baseline Noisy/Jumbled'] * 2 +\n",
    "        ['Fine-Tuned Noisy/Jumbled'] * 2\n",
    "    )\n",
    "}\n",
    "\n",
    "df = pd.DataFrame(data)\n",
    "plt.figure(figsize=(10, 6))\n",
    "sns.barplot(\n",
    "    x='Metric', y='Value', hue='Condition', dodge=True,\n",
    "    data=df, palette='muted'\n",
    ")\n",
    "plt.title('Key Metrics Across All Conditions')\n",
    "plt.xlabel('Metric')\n",
    "plt.ylabel('Value')\n",
    "plt.legend(title='Condition', bbox_to_anchor=(1.05, 1), loc='upper left')\n",
    "plt.tight_layout()\n",
    "\n",
    "plt.savefig('metrics_comparison.png', dpi=300, bbox_inches='tight')\n",
    "plt.close()"
   ]
  }
 ],
 "metadata": {
  "kernelspec": {
   "display_name": "speech_textbot2",
   "language": "python",
   "name": "python3"
  },
  "language_info": {
   "codemirror_mode": {
    "name": "ipython",
    "version": 3
   },
   "file_extension": ".py",
   "mimetype": "text/x-python",
   "name": "python",
   "nbconvert_exporter": "python",
   "pygments_lexer": "ipython3",
   "version": "3.10.17"
  }
 },
 "nbformat": 4,
 "nbformat_minor": 5
}
